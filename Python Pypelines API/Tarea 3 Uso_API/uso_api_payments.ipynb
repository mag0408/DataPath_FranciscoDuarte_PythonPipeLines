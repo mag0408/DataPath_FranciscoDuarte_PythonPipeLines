{
 "cells": [
  {
   "cell_type": "code",
   "execution_count": 4,
   "id": "9c018291-0b12-4594-9db3-d1094665e8fb",
   "metadata": {},
   "outputs": [],
   "source": [
    "from datetime import date\n",
    "import pandas as pd\n",
    "\n",
    "def paymentcustomers(request):\n",
    "    request_args = request.args\n",
    "    action = request_args['action']\n",
    "\n",
    "    if(action==\"insert\"):\n",
    "        customernumber = request_args['customernumber']\n",
    "        checknumber = request_args['checknumber']\n",
    "        amount= request_args['amount']\n",
    "        paymentDate = date.today()\n",
    "\n",
    "        PARAMS = {\n",
    "            'customernumber':customernumber,\n",
    "            'checknumber':checknumber,\n",
    "            'amount':amount,\n",
    "            'paymentdate':paymentDate\n",
    "        }\n",
    "        URL = \"https://us-central1-ci-sandbox-data.cloudfunctions.net/insertpayment\"\n",
    "        r = requests.get(url=URL,params=PARAMS)\n",
    "        mydb.close()\n",
    "        return \"ok\"\n",
    "    elif(action==\"select\"):\n",
    "        cliente = request_args['cliente']\n",
    "        URL = \"https://us-central1-ci-sandbox-data.cloudfunctions.net/listpayment\"\n",
    "        r = requests.get(url=URL,params=cliente)\n",
    "        return response.text\n",
    "    else:\n",
    "        return \"hello\"\n",
    "        \n",
    "\n",
    "\n",
    "\n",
    "#https://us-central1-ci-sandbox-data.cloudfunctions.net/insertpayment?customernumber=103&checknumber=36537537&amount=1111.4\n",
    "\n",
    "#https://us-central1-ci-sandbox-data.cloudfunctions.net/listpayment?cliente=103\n"
   ]
  },
  {
   "cell_type": "code",
   "execution_count": null,
   "id": "cebe5ab8-aa23-43ef-976c-e3560ca4dbfc",
   "metadata": {},
   "outputs": [],
   "source": []
  }
 ],
 "metadata": {
  "kernelspec": {
   "display_name": "Python 3 (ipykernel)",
   "language": "python",
   "name": "python3"
  },
  "language_info": {
   "codemirror_mode": {
    "name": "ipython",
    "version": 3
   },
   "file_extension": ".py",
   "mimetype": "text/x-python",
   "name": "python",
   "nbconvert_exporter": "python",
   "pygments_lexer": "ipython3",
   "version": "3.11.5"
  }
 },
 "nbformat": 4,
 "nbformat_minor": 5
}

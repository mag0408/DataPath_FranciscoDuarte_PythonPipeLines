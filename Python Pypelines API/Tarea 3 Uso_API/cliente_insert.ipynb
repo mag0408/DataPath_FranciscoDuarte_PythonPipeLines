{
 "cells": [
  {
   "cell_type": "code",
   "execution_count": 1,
   "id": "edc71840-b4dc-46e8-961c-69a46ea888f4",
   "metadata": {},
   "outputs": [],
   "source": [
    "from datetime import date\n",
    "import mysql.connector as connection\n",
    "import pandas as pd\n",
    "import mysql\n",
    "\n",
    "def insertPayment(request):\n",
    "    request_args = request.args\n",
    "    customernumber = request_args['customernumber']\n",
    "    checknumber = request_args['customerName']\n",
    "    contactLastName= request_args['contactLastName']\n",
    "    contactFirstName= request_args['contactFirstName']\n",
    "    phone= request_args['phone']\n",
    "  \n",
    "    mydb = mysql.connector.connect(\n",
    "        host=\"34.16.84.34\",\n",
    "        user=\"root\",\n",
    "        passwd=\"123Qaz456$$D8\",\n",
    "        database=\"classicmodels\"\n",
    "    )\n",
    "    \n",
    "    mycursor=mydb.cursor()\n",
    "    sql = \"insert into classicmodels.customers (customerNumber,customerName,contactLastName,contactFirstName,phone) VALUES (%s,%s,%s,%s,%s)\"\n",
    "    val = (customernumber,checknumber,contactLastName,contactFirstName,phone)\n",
    "    mycursor.execute(sql,val)\n",
    "    mydb.commit()\n",
    "    mydb.close()\n",
    "    return \"ok\"\n"
   ]
  },
  {
   "cell_type": "code",
   "execution_count": null,
   "id": "f80334f5-f854-48d3-989e-765c480d8a31",
   "metadata": {},
   "outputs": [],
   "source": []
  }
 ],
 "metadata": {
  "kernelspec": {
   "display_name": "Python 3 (ipykernel)",
   "language": "python",
   "name": "python3"
  },
  "language_info": {
   "codemirror_mode": {
    "name": "ipython",
    "version": 3
   },
   "file_extension": ".py",
   "mimetype": "text/x-python",
   "name": "python",
   "nbconvert_exporter": "python",
   "pygments_lexer": "ipython3",
   "version": "3.11.5"
  }
 },
 "nbformat": 4,
 "nbformat_minor": 5
}

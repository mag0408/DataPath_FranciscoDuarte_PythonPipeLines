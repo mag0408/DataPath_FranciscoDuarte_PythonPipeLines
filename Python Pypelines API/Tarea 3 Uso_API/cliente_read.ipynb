{
 "cells": [
  {
   "cell_type": "code",
   "execution_count": 4,
   "id": "822c0ec6-2b66-45fc-a2e7-0fca1c4d5a34",
   "metadata": {},
   "outputs": [],
   "source": [
    "import mysql.connector as connection\n",
    "import pandas as pd\n",
    "import mysql\n",
    "\n",
    "def listPayment(request):\n",
    "    request_args = request.args\n",
    "    cliente = request_args['cliente']\n",
    "\n",
    "    mydb = mysql.connector.connect(\n",
    "        host=\"34.16.84.34\",\n",
    "        user=\"root\",\n",
    "        passwd=\"123Qaz456$$D8\",\n",
    "        database=\"classicmodels\"\n",
    "    )\n",
    "    \n",
    "    query = \"select * from classicmodels.customers where customerNumber=\"+str(cliente)\n",
    "    result_df = pd.read_sql(query,mydb)\n",
    "    mydb.close()\n",
    "    return result_df.to_json(orient=\"records\")\n",
    "\n"
   ]
  },
  {
   "cell_type": "code",
   "execution_count": null,
   "id": "396129f9-c8b5-4806-be05-852c4595f834",
   "metadata": {},
   "outputs": [],
   "source": []
  }
 ],
 "metadata": {
  "kernelspec": {
   "display_name": "Python 3 (ipykernel)",
   "language": "python",
   "name": "python3"
  },
  "language_info": {
   "codemirror_mode": {
    "name": "ipython",
    "version": 3
   },
   "file_extension": ".py",
   "mimetype": "text/x-python",
   "name": "python",
   "nbconvert_exporter": "python",
   "pygments_lexer": "ipython3",
   "version": "3.11.5"
  }
 },
 "nbformat": 4,
 "nbformat_minor": 5
}

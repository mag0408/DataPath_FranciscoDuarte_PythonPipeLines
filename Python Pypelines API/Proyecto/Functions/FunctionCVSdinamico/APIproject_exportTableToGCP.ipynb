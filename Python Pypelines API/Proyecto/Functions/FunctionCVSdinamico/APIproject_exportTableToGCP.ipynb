{
 "cells": [
  {
   "cell_type": "code",
   "execution_count": null,
   "id": "5ed12e42-261b-4594-ac65-15523c907e2b",
   "metadata": {},
   "outputs": [],
   "source": [
    "import mysql\n",
    "import mysql.connector as connection\n",
    "import pandas as pd\n",
    "from google.cloud import storage\n",
    "\n",
    "def export_table_to_gcs(request):\n",
    "    \n",
    "    request_args = request.args\n",
    "    table_name = request_args['table_name']\n",
    "    \n",
    "    # MySQL database connection\n",
    "    mydb = connection.connect(\n",
    "        host=\"34.16.84.34\",\n",
    "        user=\"root\",\n",
    "        passwd=\"123Qaz456$$D8\",\n",
    "        database=\"classicmodels\"\n",
    "    )\n",
    "    \n",
    "    # SQL query to select data from the specified table\n",
    "    query = f\"SELECT * FROM {table_name}\"\n",
    "    \n",
    "    # Read data from MySQL into a DataFrame\n",
    "    result_df = pd.read_sql(query, mydb)\n",
    "    \n",
    "    # Close the MySQL database connection\n",
    "    mydb.close()\n",
    "    \n",
    "    # Create a client for Google Cloud Storage\n",
    "    storage_client = storage.Client()\n",
    "    \n",
    "    # Get the specified GCS bucket\n",
    "    bucket = storage_client.bucket(\"gcp_api_etl_rpoject\")\n",
    "    \n",
    "    # Define the path to the CSV file in GCS\n",
    "    file_name = f\"{table_name}.csv\"\n",
    "    blob = bucket.blob(file_name)\n",
    "    \n",
    "    # Convert DataFrame to CSV and upload to GCS\n",
    "    result_df.to_csv(file_name, index=False)\n",
    "    blob.upload_from_filename(file_name)\n",
    "    \n",
    "    return f\"Data from {table_name} exported to gcp_api_etl_rpoject/{file_name}\""
   ]
  }
 ],
 "metadata": {
  "kernelspec": {
   "display_name": "Python 3 (ipykernel)",
   "language": "python",
   "name": "python3"
  },
  "language_info": {
   "codemirror_mode": {
    "name": "ipython",
    "version": 3
   },
   "file_extension": ".py",
   "mimetype": "text/x-python",
   "name": "python",
   "nbconvert_exporter": "python",
   "pygments_lexer": "ipython3",
   "version": "3.11.5"
  }
 },
 "nbformat": 4,
 "nbformat_minor": 5
}

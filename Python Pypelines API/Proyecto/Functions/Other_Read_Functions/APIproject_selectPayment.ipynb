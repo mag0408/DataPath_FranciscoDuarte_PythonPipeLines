{
 "cells": [
  {
   "cell_type": "code",
   "execution_count": null,
   "id": "e255a848-3cd1-470e-b5f6-5aee97193d39",
   "metadata": {},
   "outputs": [],
   "source": [
    "import mysql.connector as connection\n",
    "import pandas as pd\n",
    "import mysql\n",
    "\n",
    "def select_payment_by_customerNumber_checkNumber(request):\n",
    "    \n",
    "    request_args = request.args\n",
    "    customerNumber = request_args['customerNumber']\n",
    "    \n",
    "    mydb = connection.connect(\n",
    "        host=\"34.16.84.34\",\n",
    "        user=\"root\",\n",
    "        passwd=\"123Qaz456$$D8\",\n",
    "        database=\"classicmodels\"\n",
    "    )\n",
    "    \n",
    "    query = f\"SELECT * FROM payments WHERE customerNumber={customerNumber}'\"\n",
    "    result_df = pd.read_sql(query, mydb)\n",
    "    mydb.close()\n",
    "    \n",
    "    return result_df.to_json(orient=\"records\")"
   ]
  }
 ],
 "metadata": {
  "kernelspec": {
   "display_name": "Python 3 (ipykernel)",
   "language": "python",
   "name": "python3"
  },
  "language_info": {
   "codemirror_mode": {
    "name": "ipython",
    "version": 3
   },
   "file_extension": ".py",
   "mimetype": "text/x-python",
   "name": "python",
   "nbconvert_exporter": "python",
   "pygments_lexer": "ipython3",
   "version": "3.11.5"
  }
 },
 "nbformat": 4,
 "nbformat_minor": 5
}

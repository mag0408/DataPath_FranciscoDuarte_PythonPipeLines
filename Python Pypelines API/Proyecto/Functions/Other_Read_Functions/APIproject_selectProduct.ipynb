{
 "cells": [
  {
   "cell_type": "code",
   "execution_count": null,
   "id": "92049889-8f70-42d9-872f-a3850f653b9f",
   "metadata": {},
   "outputs": [],
   "source": [
    "import mysql.connector as connection\n",
    "import pandas as pd\n",
    "import mysql\n",
    "\n",
    "def select_product_by_productCode(request):\n",
    "    \n",
    "    request_args = request.args\n",
    "    productCode = request_args['productCode']\n",
    "    \n",
    "    mydb = connection.connect(\n",
    "        host=\"34.16.84.34\",\n",
    "        user=\"root\",\n",
    "        passwd=\"123Qaz456$$D8\",\n",
    "        database=\"classicmodels\"\n",
    "    )\n",
    "    \n",
    "    query = f\"SELECT * FROM products WHERE productCode='{productCode}'\"\n",
    "    result_df = pd.read_sql(query, mydb)\n",
    "    mydb.close()\n",
    "    \n",
    "    return result_df.to_json(orient=\"records\")"
   ]
  }
 ],
 "metadata": {
  "kernelspec": {
   "display_name": "Python 3 (ipykernel)",
   "language": "python",
   "name": "python3"
  },
  "language_info": {
   "codemirror_mode": {
    "name": "ipython",
    "version": 3
   },
   "file_extension": ".py",
   "mimetype": "text/x-python",
   "name": "python",
   "nbconvert_exporter": "python",
   "pygments_lexer": "ipython3",
   "version": "3.11.5"
  }
 },
 "nbformat": 4,
 "nbformat_minor": 5
}

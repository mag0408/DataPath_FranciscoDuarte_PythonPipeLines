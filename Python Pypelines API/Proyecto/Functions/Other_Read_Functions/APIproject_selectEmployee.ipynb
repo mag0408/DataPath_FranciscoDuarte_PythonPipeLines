{
 "cells": [
  {
   "cell_type": "code",
   "execution_count": null,
   "id": "bb3774f3-a984-48de-bd65-0ad8dd137962",
   "metadata": {},
   "outputs": [],
   "source": [
    "import mysql.connector as connection\n",
    "import pandas as pd\n",
    "import mysql\n",
    "\n",
    "def select_employee_by_employeeNumber(request):\n",
    "    \n",
    "    request_args = request.args\n",
    "    employeeNumber = request_args['employeeNumber']\n",
    "    \n",
    "    mydb = connection.connect(\n",
    "        host=\"34.16.84.34\",\n",
    "        user=\"root\",\n",
    "        passwd=\"123Qaz456$$D8\",\n",
    "        database=\"classicmodels\"\n",
    "    )\n",
    "    \n",
    "    query = f\"SELECT * FROM employees WHERE employeeNumber={employeeNumber}\"\n",
    "    result_df = pd.read_sql(query, mydb)\n",
    "    mydb.close()\n",
    "    \n",
    "    return result_df.to_json(orient=\"records\")"
   ]
  }
 ],
 "metadata": {
  "kernelspec": {
   "display_name": "Python 3 (ipykernel)",
   "language": "python",
   "name": "python3"
  },
  "language_info": {
   "codemirror_mode": {
    "name": "ipython",
    "version": 3
   },
   "file_extension": ".py",
   "mimetype": "text/x-python",
   "name": "python",
   "nbconvert_exporter": "python",
   "pygments_lexer": "ipython3",
   "version": "3.11.5"
  }
 },
 "nbformat": 4,
 "nbformat_minor": 5
}
